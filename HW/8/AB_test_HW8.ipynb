{
 "cells": [
  {
   "cell_type": "markdown",
   "id": "5e7164fa",
   "metadata": {},
   "source": [
    "Урок 8. \n",
    "Python применение статистических критериев на практике - пайплайн оценки A/B\n",
    "На сайте запущен А/В тест с целью увеличить доход. В приложенном excel файле вы найдете сырые данные по результатам эксперимента – user_id, тип выборки variant_name и доход принесенный пользователем revenue.\n",
    "Проанализируйте результаты эксперимента и напишите свои рекомендации менеджеру."
   ]
  },
  {
   "cell_type": "code",
   "execution_count": 52,
   "id": "6a4d480b",
   "metadata": {},
   "outputs": [],
   "source": [
    "import numpy as np\n",
    "import seaborn as sns\n",
    "import pandas as pd\n",
    "import matplotlib.pyplot as plt\n",
    "from scipy import stats"
   ]
  },
  {
   "cell_type": "code",
   "execution_count": 53,
   "id": "2243de61",
   "metadata": {},
   "outputs": [],
   "source": [
    "\n",
    "import warnings\n",
    "\n",
    "warnings.filterwarnings('ignore')\n",
    "data = pd.read_excel('C:/GB/Analyst/AB_test/HW/8/AB_Test_Results.xlsx')"
   ]
  },
  {
   "cell_type": "code",
   "execution_count": 54,
   "id": "9a2b87f7",
   "metadata": {},
   "outputs": [
    {
     "data": {
      "text/html": [
       "<div>\n",
       "<style scoped>\n",
       "    .dataframe tbody tr th:only-of-type {\n",
       "        vertical-align: middle;\n",
       "    }\n",
       "\n",
       "    .dataframe tbody tr th {\n",
       "        vertical-align: top;\n",
       "    }\n",
       "\n",
       "    .dataframe thead th {\n",
       "        text-align: right;\n",
       "    }\n",
       "</style>\n",
       "<table border=\"1\" class=\"dataframe\">\n",
       "  <thead>\n",
       "    <tr style=\"text-align: right;\">\n",
       "      <th></th>\n",
       "      <th>USER_ID</th>\n",
       "      <th>VARIANT_NAME</th>\n",
       "      <th>REVENUE</th>\n",
       "    </tr>\n",
       "  </thead>\n",
       "  <tbody>\n",
       "    <tr>\n",
       "      <th>0</th>\n",
       "      <td>737</td>\n",
       "      <td>variant</td>\n",
       "      <td>0.0</td>\n",
       "    </tr>\n",
       "    <tr>\n",
       "      <th>1</th>\n",
       "      <td>2423</td>\n",
       "      <td>control</td>\n",
       "      <td>0.0</td>\n",
       "    </tr>\n",
       "    <tr>\n",
       "      <th>2</th>\n",
       "      <td>9411</td>\n",
       "      <td>control</td>\n",
       "      <td>0.0</td>\n",
       "    </tr>\n",
       "    <tr>\n",
       "      <th>3</th>\n",
       "      <td>7311</td>\n",
       "      <td>control</td>\n",
       "      <td>0.0</td>\n",
       "    </tr>\n",
       "    <tr>\n",
       "      <th>4</th>\n",
       "      <td>6174</td>\n",
       "      <td>variant</td>\n",
       "      <td>0.0</td>\n",
       "    </tr>\n",
       "    <tr>\n",
       "      <th>5</th>\n",
       "      <td>2380</td>\n",
       "      <td>variant</td>\n",
       "      <td>0.0</td>\n",
       "    </tr>\n",
       "    <tr>\n",
       "      <th>6</th>\n",
       "      <td>2849</td>\n",
       "      <td>control</td>\n",
       "      <td>0.0</td>\n",
       "    </tr>\n",
       "    <tr>\n",
       "      <th>7</th>\n",
       "      <td>9168</td>\n",
       "      <td>control</td>\n",
       "      <td>0.0</td>\n",
       "    </tr>\n",
       "    <tr>\n",
       "      <th>8</th>\n",
       "      <td>6205</td>\n",
       "      <td>variant</td>\n",
       "      <td>0.0</td>\n",
       "    </tr>\n",
       "    <tr>\n",
       "      <th>9</th>\n",
       "      <td>7548</td>\n",
       "      <td>control</td>\n",
       "      <td>0.0</td>\n",
       "    </tr>\n",
       "  </tbody>\n",
       "</table>\n",
       "</div>"
      ],
      "text/plain": [
       "   USER_ID VARIANT_NAME  REVENUE\n",
       "0      737      variant      0.0\n",
       "1     2423      control      0.0\n",
       "2     9411      control      0.0\n",
       "3     7311      control      0.0\n",
       "4     6174      variant      0.0\n",
       "5     2380      variant      0.0\n",
       "6     2849      control      0.0\n",
       "7     9168      control      0.0\n",
       "8     6205      variant      0.0\n",
       "9     7548      control      0.0"
      ]
     },
     "execution_count": 54,
     "metadata": {},
     "output_type": "execute_result"
    }
   ],
   "source": [
    "data.head(10)"
   ]
  },
  {
   "cell_type": "code",
   "execution_count": 55,
   "id": "52a4d5cf",
   "metadata": {},
   "outputs": [
    {
     "name": "stdout",
     "output_type": "stream",
     "text": [
      "<class 'pandas.core.frame.DataFrame'>\n",
      "RangeIndex: 10000 entries, 0 to 9999\n",
      "Data columns (total 3 columns):\n",
      " #   Column        Non-Null Count  Dtype  \n",
      "---  ------        --------------  -----  \n",
      " 0   USER_ID       10000 non-null  int64  \n",
      " 1   VARIANT_NAME  10000 non-null  object \n",
      " 2   REVENUE       10000 non-null  float64\n",
      "dtypes: float64(1), int64(1), object(1)\n",
      "memory usage: 234.5+ KB\n"
     ]
    }
   ],
   "source": [
    "data.info()"
   ]
  },
  {
   "cell_type": "code",
   "execution_count": 56,
   "id": "ec2588a2",
   "metadata": {},
   "outputs": [
    {
     "data": {
      "text/plain": [
       "0.00      9848\n",
       "0.02         3\n",
       "0.04         5\n",
       "0.06         1\n",
       "0.23         1\n",
       "          ... \n",
       "29.32        1\n",
       "41.53        1\n",
       "57.46        1\n",
       "58.63        1\n",
       "196.01       1\n",
       "Name: REVENUE, Length: 101, dtype: int64"
      ]
     },
     "execution_count": 56,
     "metadata": {},
     "output_type": "execute_result"
    }
   ],
   "source": [
    "data['REVENUE'].value_counts().sort_index()"
   ]
  },
  {
   "cell_type": "markdown",
   "id": "1ccd7b41",
   "metadata": {},
   "source": [
    "Посмотрим, есть ли юзеры, присутствующие в обеих группах?"
   ]
  },
  {
   "cell_type": "code",
   "execution_count": 57,
   "id": "764cb774",
   "metadata": {
    "scrolled": true
   },
   "outputs": [
    {
     "data": {
      "text/html": [
       "<div>\n",
       "<style scoped>\n",
       "    .dataframe tbody tr th:only-of-type {\n",
       "        vertical-align: middle;\n",
       "    }\n",
       "\n",
       "    .dataframe tbody tr th {\n",
       "        vertical-align: top;\n",
       "    }\n",
       "\n",
       "    .dataframe thead th {\n",
       "        text-align: right;\n",
       "    }\n",
       "</style>\n",
       "<table border=\"1\" class=\"dataframe\">\n",
       "  <thead>\n",
       "    <tr style=\"text-align: right;\">\n",
       "      <th></th>\n",
       "      <th>USER_ID</th>\n",
       "      <th>VARIANT_NAME</th>\n",
       "    </tr>\n",
       "  </thead>\n",
       "  <tbody>\n",
       "    <tr>\n",
       "      <th>0</th>\n",
       "      <td>2</td>\n",
       "      <td>1</td>\n",
       "    </tr>\n",
       "    <tr>\n",
       "      <th>1</th>\n",
       "      <td>3</td>\n",
       "      <td>2</td>\n",
       "    </tr>\n",
       "    <tr>\n",
       "      <th>2</th>\n",
       "      <td>4</td>\n",
       "      <td>1</td>\n",
       "    </tr>\n",
       "    <tr>\n",
       "      <th>3</th>\n",
       "      <td>5</td>\n",
       "      <td>1</td>\n",
       "    </tr>\n",
       "    <tr>\n",
       "      <th>4</th>\n",
       "      <td>6</td>\n",
       "      <td>1</td>\n",
       "    </tr>\n",
       "    <tr>\n",
       "      <th>...</th>\n",
       "      <td>...</td>\n",
       "      <td>...</td>\n",
       "    </tr>\n",
       "    <tr>\n",
       "      <th>6319</th>\n",
       "      <td>9993</td>\n",
       "      <td>1</td>\n",
       "    </tr>\n",
       "    <tr>\n",
       "      <th>6320</th>\n",
       "      <td>9995</td>\n",
       "      <td>1</td>\n",
       "    </tr>\n",
       "    <tr>\n",
       "      <th>6321</th>\n",
       "      <td>9996</td>\n",
       "      <td>2</td>\n",
       "    </tr>\n",
       "    <tr>\n",
       "      <th>6322</th>\n",
       "      <td>9998</td>\n",
       "      <td>1</td>\n",
       "    </tr>\n",
       "    <tr>\n",
       "      <th>6323</th>\n",
       "      <td>10000</td>\n",
       "      <td>2</td>\n",
       "    </tr>\n",
       "  </tbody>\n",
       "</table>\n",
       "<p>6324 rows × 2 columns</p>\n",
       "</div>"
      ],
      "text/plain": [
       "      USER_ID  VARIANT_NAME\n",
       "0           2             1\n",
       "1           3             2\n",
       "2           4             1\n",
       "3           5             1\n",
       "4           6             1\n",
       "...       ...           ...\n",
       "6319     9993             1\n",
       "6320     9995             1\n",
       "6321     9996             2\n",
       "6322     9998             1\n",
       "6323    10000             2\n",
       "\n",
       "[6324 rows x 2 columns]"
      ]
     },
     "execution_count": 57,
     "metadata": {},
     "output_type": "execute_result"
    }
   ],
   "source": [
    "A_and_B = data.groupby('USER_ID', as_index=False).agg({'VARIANT_NAME': pd.Series.nunique})\n",
    "A_and_B"
   ]
  },
  {
   "cell_type": "markdown",
   "id": "2c6a04d4",
   "metadata": {},
   "source": [
    "Да, мы видим ID юзеров, присутствующих в обеих группах. Возьмеме только пользователей, присутсвующих только в одной группе."
   ]
  },
  {
   "cell_type": "code",
   "execution_count": 58,
   "id": "bdf1cb3e",
   "metadata": {},
   "outputs": [],
   "source": [
    "A_or_B = A_and_B.query('VARIANT_NAME < 2')"
   ]
  },
  {
   "cell_type": "code",
   "execution_count": 59,
   "id": "f8023f9b",
   "metadata": {},
   "outputs": [
    {
     "data": {
      "text/plain": [
       "(6070, 3)"
      ]
     },
     "execution_count": 59,
     "metadata": {},
     "output_type": "execute_result"
    }
   ],
   "source": [
    "data_new = data[data.USER_ID.isin(A_or_B.USER_ID)]\n",
    "data_new.shape"
   ]
  },
  {
   "cell_type": "code",
   "execution_count": 60,
   "id": "fa5cc0ef",
   "metadata": {},
   "outputs": [
    {
     "data": {
      "text/plain": [
       "5652    6\n",
       "1339    5\n",
       "1782    5\n",
       "9152    4\n",
       "8573    4\n",
       "       ..\n",
       "9730    1\n",
       "2924    1\n",
       "293     1\n",
       "9670    1\n",
       "9468    1\n",
       "Name: USER_ID, Length: 4783, dtype: int64"
      ]
     },
     "execution_count": 60,
     "metadata": {},
     "output_type": "execute_result"
    }
   ],
   "source": [
    "data_new['USER_ID'].value_counts()"
   ]
  },
  {
   "cell_type": "markdown",
   "id": "85cdf2ed",
   "metadata": {},
   "source": [
    "Мы видим, что остались повторения ID внутри групп, но их мы оставим, так как весь принесенный ими доход находится в одной группе. Делим пользователей на две группы, удаляя тех, которые не принесли доход."
   ]
  },
  {
   "cell_type": "code",
   "execution_count": 61,
   "id": "372b2a1a",
   "metadata": {},
   "outputs": [],
   "source": [
    "data_A=data_new[(data_new.VARIANT_NAME=='control')&(data_new.REVENUE>0)]\n",
    "data_B=data_new[(data_new.VARIANT_NAME=='variant')&(data_new.REVENUE>0)]"
   ]
  },
  {
   "cell_type": "code",
   "execution_count": 62,
   "id": "d18ca9d7",
   "metadata": {},
   "outputs": [
    {
     "data": {
      "text/html": [
       "<div>\n",
       "<style scoped>\n",
       "    .dataframe tbody tr th:only-of-type {\n",
       "        vertical-align: middle;\n",
       "    }\n",
       "\n",
       "    .dataframe tbody tr th {\n",
       "        vertical-align: top;\n",
       "    }\n",
       "\n",
       "    .dataframe thead th {\n",
       "        text-align: right;\n",
       "    }\n",
       "</style>\n",
       "<table border=\"1\" class=\"dataframe\">\n",
       "  <thead>\n",
       "    <tr style=\"text-align: right;\">\n",
       "      <th></th>\n",
       "      <th>USER_ID</th>\n",
       "      <th>REVENUE</th>\n",
       "    </tr>\n",
       "  </thead>\n",
       "  <tbody>\n",
       "    <tr>\n",
       "      <th>count</th>\n",
       "      <td>54.000000</td>\n",
       "      <td>54.000000</td>\n",
       "    </tr>\n",
       "    <tr>\n",
       "      <th>mean</th>\n",
       "      <td>4283.851852</td>\n",
       "      <td>8.714074</td>\n",
       "    </tr>\n",
       "    <tr>\n",
       "      <th>std</th>\n",
       "      <td>2846.713818</td>\n",
       "      <td>26.627446</td>\n",
       "    </tr>\n",
       "    <tr>\n",
       "      <th>min</th>\n",
       "      <td>124.000000</td>\n",
       "      <td>0.020000</td>\n",
       "    </tr>\n",
       "    <tr>\n",
       "      <th>25%</th>\n",
       "      <td>1947.500000</td>\n",
       "      <td>1.585000</td>\n",
       "    </tr>\n",
       "    <tr>\n",
       "      <th>50%</th>\n",
       "      <td>3617.500000</td>\n",
       "      <td>3.120000</td>\n",
       "    </tr>\n",
       "    <tr>\n",
       "      <th>75%</th>\n",
       "      <td>6458.250000</td>\n",
       "      <td>6.007500</td>\n",
       "    </tr>\n",
       "    <tr>\n",
       "      <th>max</th>\n",
       "      <td>9766.000000</td>\n",
       "      <td>196.010000</td>\n",
       "    </tr>\n",
       "  </tbody>\n",
       "</table>\n",
       "</div>"
      ],
      "text/plain": [
       "           USER_ID     REVENUE\n",
       "count    54.000000   54.000000\n",
       "mean   4283.851852    8.714074\n",
       "std    2846.713818   26.627446\n",
       "min     124.000000    0.020000\n",
       "25%    1947.500000    1.585000\n",
       "50%    3617.500000    3.120000\n",
       "75%    6458.250000    6.007500\n",
       "max    9766.000000  196.010000"
      ]
     },
     "execution_count": 62,
     "metadata": {},
     "output_type": "execute_result"
    }
   ],
   "source": [
    "data_A.describe()"
   ]
  },
  {
   "cell_type": "code",
   "execution_count": 63,
   "id": "d9beebb3",
   "metadata": {},
   "outputs": [
    {
     "data": {
      "text/html": [
       "<div>\n",
       "<style scoped>\n",
       "    .dataframe tbody tr th:only-of-type {\n",
       "        vertical-align: middle;\n",
       "    }\n",
       "\n",
       "    .dataframe tbody tr th {\n",
       "        vertical-align: top;\n",
       "    }\n",
       "\n",
       "    .dataframe thead th {\n",
       "        text-align: right;\n",
       "    }\n",
       "</style>\n",
       "<table border=\"1\" class=\"dataframe\">\n",
       "  <thead>\n",
       "    <tr style=\"text-align: right;\">\n",
       "      <th></th>\n",
       "      <th>USER_ID</th>\n",
       "      <th>REVENUE</th>\n",
       "    </tr>\n",
       "  </thead>\n",
       "  <tbody>\n",
       "    <tr>\n",
       "      <th>count</th>\n",
       "      <td>43.000000</td>\n",
       "      <td>43.000000</td>\n",
       "    </tr>\n",
       "    <tr>\n",
       "      <th>mean</th>\n",
       "      <td>5297.534884</td>\n",
       "      <td>4.170233</td>\n",
       "    </tr>\n",
       "    <tr>\n",
       "      <th>std</th>\n",
       "      <td>3067.761518</td>\n",
       "      <td>4.932851</td>\n",
       "    </tr>\n",
       "    <tr>\n",
       "      <th>min</th>\n",
       "      <td>56.000000</td>\n",
       "      <td>0.020000</td>\n",
       "    </tr>\n",
       "    <tr>\n",
       "      <th>25%</th>\n",
       "      <td>3328.500000</td>\n",
       "      <td>1.250000</td>\n",
       "    </tr>\n",
       "    <tr>\n",
       "      <th>50%</th>\n",
       "      <td>4995.000000</td>\n",
       "      <td>2.720000</td>\n",
       "    </tr>\n",
       "    <tr>\n",
       "      <th>75%</th>\n",
       "      <td>8011.000000</td>\n",
       "      <td>4.270000</td>\n",
       "    </tr>\n",
       "    <tr>\n",
       "      <th>max</th>\n",
       "      <td>9928.000000</td>\n",
       "      <td>23.040000</td>\n",
       "    </tr>\n",
       "  </tbody>\n",
       "</table>\n",
       "</div>"
      ],
      "text/plain": [
       "           USER_ID    REVENUE\n",
       "count    43.000000  43.000000\n",
       "mean   5297.534884   4.170233\n",
       "std    3067.761518   4.932851\n",
       "min      56.000000   0.020000\n",
       "25%    3328.500000   1.250000\n",
       "50%    4995.000000   2.720000\n",
       "75%    8011.000000   4.270000\n",
       "max    9928.000000  23.040000"
      ]
     },
     "execution_count": 63,
     "metadata": {},
     "output_type": "execute_result"
    }
   ],
   "source": [
    "data_B.describe()"
   ]
  },
  {
   "cell_type": "markdown",
   "id": "5ef3a2dd",
   "metadata": {},
   "source": [
    "Предварительно можно сказать, что среднее значение в группе А в два раза больше, чем в группе В, максимальное значение в группе А больше чем в В в 8,5 раз. Нужно посмотреть на выбросы.Построим гистограммы."
   ]
  },
  {
   "cell_type": "code",
   "execution_count": 64,
   "id": "17b6f146",
   "metadata": {},
   "outputs": [
    {
     "data": {
      "text/plain": [
       "<Axes: xlabel='REVENUE', ylabel='Count'>"
      ]
     },
     "execution_count": 64,
     "metadata": {},
     "output_type": "execute_result"
    },
    {
     "data": {
      "image/png": "[encoded data removed]",
      "text/plain": [
       "<Figure size 1000x600 with 1 Axes>"
      ]
     },
     "metadata": {},
     "output_type": "display_data"
    }
   ],
   "source": [
    "plt.figure(figsize=(10, 6))\n",
    "sns.histplot(data_A['REVENUE'], color='r', bins=100)\n",
    "sns.histplot(data_B['REVENUE'], color='b', bins=100)"
   ]
  },
  {
   "cell_type": "markdown",
   "id": "31a55260",
   "metadata": {},
   "source": [
    "Посмотрим выбросы:"
   ]
  },
  {
   "cell_type": "code",
   "execution_count": 65,
   "id": "7efe7a43",
   "metadata": {},
   "outputs": [
    {
     "data": {
      "text/plain": [
       "<Axes: xlabel='VARIANT_NAME', ylabel='REVENUE'>"
      ]
     },
     "execution_count": 65,
     "metadata": {},
     "output_type": "execute_result"
    },
    {
     "data": {
      "image/png": "[encoded data removed]",
      "text/plain": [
       "<Figure size 1500x400 with 2 Axes>"
      ]
     },
     "metadata": {},
     "output_type": "display_data"
    }
   ],
   "source": [
    "fig, (ax_boxplot, bx_boxplot) = plt.subplots(1, 2, figsize=(15,4))\n",
    "sns.boxplot(x=data_A['VARIANT_NAME'], y=data_A['REVENUE'], ax=ax_boxplot)\n",
    "sns.boxplot(x=data_B['VARIANT_NAME'], y=data_B['REVENUE'])"
   ]
  },
  {
   "cell_type": "code",
   "execution_count": 66,
   "id": "bbd03d04",
   "metadata": {},
   "outputs": [
    {
     "data": {
      "text/plain": [
       "17.05     1\n",
       "18.56     1\n",
       "20.07     1\n",
       "29.32     1\n",
       "196.01    1\n",
       "Name: REVENUE, dtype: int64"
      ]
     },
     "execution_count": 66,
     "metadata": {},
     "output_type": "execute_result"
    }
   ],
   "source": [
    "data_A['REVENUE'].value_counts().sort_index().tail()"
   ]
  },
  {
   "cell_type": "markdown",
   "id": "3db9ef89",
   "metadata": {},
   "source": [
    "Видим, что в группе А есть одно значение 196, при том, что основная масса  REVENUE лежит до 30, я бы убрала это значение. В группе В таких выбросов нет, убирать ничего не будем."
   ]
  },
  {
   "cell_type": "code",
   "execution_count": 67,
   "id": "71415bd7",
   "metadata": {},
   "outputs": [],
   "source": [
    "data_A2 = data_A[data_A['REVENUE'] < data_A['REVENUE'].quantile(0.975)]"
   ]
  },
  {
   "cell_type": "code",
   "execution_count": 68,
   "id": "3f6fcd31",
   "metadata": {},
   "outputs": [
    {
     "data": {
      "text/plain": [
       "<Axes: ylabel='Count'>"
      ]
     },
     "execution_count": 68,
     "metadata": {},
     "output_type": "execute_result"
    },
    {
     "data": {
      "image/png": "[encoded data removed]",
      "text/plain": [
       "<Figure size 1000x600 with 1 Axes>"
      ]
     },
     "metadata": {},
     "output_type": "display_data"
    }
   ],
   "source": [
    "plt.figure(figsize=(10, 6))\n",
    "sns.histplot(data_A2['REVENUE'].values, color ='r', bins=150)\n",
    "sns.histplot(data_B['REVENUE'].values, color ='b', bins=150)"
   ]
  },
  {
   "cell_type": "code",
   "execution_count": 69,
   "id": "0616fa7e",
   "metadata": {},
   "outputs": [
    {
     "data": {
      "text/html": [
       "<div>\n",
       "<style scoped>\n",
       "    .dataframe tbody tr th:only-of-type {\n",
       "        vertical-align: middle;\n",
       "    }\n",
       "\n",
       "    .dataframe tbody tr th {\n",
       "        vertical-align: top;\n",
       "    }\n",
       "\n",
       "    .dataframe thead th {\n",
       "        text-align: right;\n",
       "    }\n",
       "</style>\n",
       "<table border=\"1\" class=\"dataframe\">\n",
       "  <thead>\n",
       "    <tr style=\"text-align: right;\">\n",
       "      <th></th>\n",
       "      <th>USER_ID</th>\n",
       "      <th>REVENUE</th>\n",
       "    </tr>\n",
       "  </thead>\n",
       "  <tbody>\n",
       "    <tr>\n",
       "      <th>count</th>\n",
       "      <td>52.000000</td>\n",
       "      <td>52.000000</td>\n",
       "    </tr>\n",
       "    <tr>\n",
       "      <th>mean</th>\n",
       "      <td>4342.692308</td>\n",
       "      <td>4.715962</td>\n",
       "    </tr>\n",
       "    <tr>\n",
       "      <th>std</th>\n",
       "      <td>2883.176017</td>\n",
       "      <td>4.935908</td>\n",
       "    </tr>\n",
       "    <tr>\n",
       "      <th>min</th>\n",
       "      <td>124.000000</td>\n",
       "      <td>0.020000</td>\n",
       "    </tr>\n",
       "    <tr>\n",
       "      <th>25%</th>\n",
       "      <td>1925.000000</td>\n",
       "      <td>1.482500</td>\n",
       "    </tr>\n",
       "    <tr>\n",
       "      <th>50%</th>\n",
       "      <td>3772.000000</td>\n",
       "      <td>2.990000</td>\n",
       "    </tr>\n",
       "    <tr>\n",
       "      <th>75%</th>\n",
       "      <td>6506.750000</td>\n",
       "      <td>4.957500</td>\n",
       "    </tr>\n",
       "    <tr>\n",
       "      <th>max</th>\n",
       "      <td>9766.000000</td>\n",
       "      <td>20.070000</td>\n",
       "    </tr>\n",
       "  </tbody>\n",
       "</table>\n",
       "</div>"
      ],
      "text/plain": [
       "           USER_ID    REVENUE\n",
       "count    52.000000  52.000000\n",
       "mean   4342.692308   4.715962\n",
       "std    2883.176017   4.935908\n",
       "min     124.000000   0.020000\n",
       "25%    1925.000000   1.482500\n",
       "50%    3772.000000   2.990000\n",
       "75%    6506.750000   4.957500\n",
       "max    9766.000000  20.070000"
      ]
     },
     "execution_count": 69,
     "metadata": {},
     "output_type": "execute_result"
    }
   ],
   "source": [
    "data_A2.describe()"
   ]
  },
  {
   "cell_type": "code",
   "execution_count": 70,
   "id": "e0156810",
   "metadata": {},
   "outputs": [
    {
     "data": {
      "text/html": [
       "<div>\n",
       "<style scoped>\n",
       "    .dataframe tbody tr th:only-of-type {\n",
       "        vertical-align: middle;\n",
       "    }\n",
       "\n",
       "    .dataframe tbody tr th {\n",
       "        vertical-align: top;\n",
       "    }\n",
       "\n",
       "    .dataframe thead th {\n",
       "        text-align: right;\n",
       "    }\n",
       "</style>\n",
       "<table border=\"1\" class=\"dataframe\">\n",
       "  <thead>\n",
       "    <tr style=\"text-align: right;\">\n",
       "      <th></th>\n",
       "      <th>USER_ID</th>\n",
       "      <th>REVENUE</th>\n",
       "    </tr>\n",
       "  </thead>\n",
       "  <tbody>\n",
       "    <tr>\n",
       "      <th>count</th>\n",
       "      <td>43.000000</td>\n",
       "      <td>43.000000</td>\n",
       "    </tr>\n",
       "    <tr>\n",
       "      <th>mean</th>\n",
       "      <td>5297.534884</td>\n",
       "      <td>4.170233</td>\n",
       "    </tr>\n",
       "    <tr>\n",
       "      <th>std</th>\n",
       "      <td>3067.761518</td>\n",
       "      <td>4.932851</td>\n",
       "    </tr>\n",
       "    <tr>\n",
       "      <th>min</th>\n",
       "      <td>56.000000</td>\n",
       "      <td>0.020000</td>\n",
       "    </tr>\n",
       "    <tr>\n",
       "      <th>25%</th>\n",
       "      <td>3328.500000</td>\n",
       "      <td>1.250000</td>\n",
       "    </tr>\n",
       "    <tr>\n",
       "      <th>50%</th>\n",
       "      <td>4995.000000</td>\n",
       "      <td>2.720000</td>\n",
       "    </tr>\n",
       "    <tr>\n",
       "      <th>75%</th>\n",
       "      <td>8011.000000</td>\n",
       "      <td>4.270000</td>\n",
       "    </tr>\n",
       "    <tr>\n",
       "      <th>max</th>\n",
       "      <td>9928.000000</td>\n",
       "      <td>23.040000</td>\n",
       "    </tr>\n",
       "  </tbody>\n",
       "</table>\n",
       "</div>"
      ],
      "text/plain": [
       "           USER_ID    REVENUE\n",
       "count    43.000000  43.000000\n",
       "mean   5297.534884   4.170233\n",
       "std    3067.761518   4.932851\n",
       "min      56.000000   0.020000\n",
       "25%    3328.500000   1.250000\n",
       "50%    4995.000000   2.720000\n",
       "75%    8011.000000   4.270000\n",
       "max    9928.000000  23.040000"
      ]
     },
     "execution_count": 70,
     "metadata": {},
     "output_type": "execute_result"
    }
   ],
   "source": [
    "data_B.describe()"
   ]
  },
  {
   "cell_type": "markdown",
   "id": "eeb3f942",
   "metadata": {},
   "source": [
    "Здесь мы уже видим похожие значения во всех полях, можно предварительно предположить, что статистически значимых рахличий мы не найдем. Очивидно, что данные распределены ненормально, но проверим это на всякий случай."
   ]
  },
  {
   "cell_type": "code",
   "execution_count": 71,
   "id": "abcc5ab9",
   "metadata": {},
   "outputs": [
    {
     "data": {
      "text/plain": [
       "ShapiroResult(statistic=0.2597762942314148, pvalue=5.154708786008454e-15)"
      ]
     },
     "execution_count": 71,
     "metadata": {},
     "output_type": "execute_result"
    }
   ],
   "source": [
    "stats.shapiro(data_A['REVENUE'])"
   ]
  },
  {
   "cell_type": "code",
   "execution_count": 72,
   "id": "172fe4a2",
   "metadata": {},
   "outputs": [
    {
     "data": {
      "text/plain": [
       "ShapiroResult(statistic=0.705331027507782, pvalue=5.565184935107936e-08)"
      ]
     },
     "execution_count": 72,
     "metadata": {},
     "output_type": "execute_result"
    }
   ],
   "source": [
    "stats.shapiro(data_B['REVENUE'])"
   ]
  },
  {
   "cell_type": "markdown",
   "id": "b0d041c7",
   "metadata": {},
   "source": [
    "Тест доказал, что распределние ненормальное. В следсчии этого, и учитывая, что данные количественные и выборки независимые используем критерий Манна-Уитни для оценки статистической разницы значения REVENUE в двух группах:"
   ]
  },
  {
   "cell_type": "code",
   "execution_count": 73,
   "id": "2f2cbf81",
   "metadata": {},
   "outputs": [
    {
     "name": "stdout",
     "output_type": "stream",
     "text": [
      "statistic = 1292.0, p-value = 0.343\n",
      "Статистические различия не обнаружены, принимаем нулевую гипотезу.\n"
     ]
    }
   ],
   "source": [
    "statistic, pvalue=stats.mannwhitneyu(data_A['REVENUE'].values, data_B['REVENUE'].values)\n",
    "print (f'statistic = {statistic}, p-value = {round(pvalue, 3)}')\n",
    "if (pvalue<0.05): print('Статистические различия обнаружены, принимаем альтернативную гипотезу.')\n",
    "if (pvalue>0.05): print('Статистические различия не обнаружены, принимаем нулевую гипотезу.')"
   ]
  },
  {
   "cell_type": "markdown",
   "id": "a6d2c388",
   "metadata": {},
   "source": [
    "Посмотрим, есть ли статистическая разница в количестве пользователей, совершивших покупку по отношению к общему количеству пользователей. Так как распределение ненормальное, используем критерий хи-квадрат."
   ]
  },
  {
   "cell_type": "code",
   "execution_count": 77,
   "id": "fb838bcb",
   "metadata": {},
   "outputs": [
    {
     "data": {
      "text/plain": [
       "(3026, 3044, 54, 43)"
      ]
     },
     "execution_count": 77,
     "metadata": {},
     "output_type": "execute_result"
    }
   ],
   "source": [
    "all_A=data_new[data_new['VARIANT_NAME']=='control'].shape[0]\n",
    "all_B=data_new[data_new['VARIANT_NAME']=='variant'].shape[0]\n",
    "A=data_A.shape[0]\n",
    "B=data_B.shape[0]\n",
    "all_A, all_B, A, B"
   ]
  },
  {
   "cell_type": "code",
   "execution_count": 85,
   "id": "82ffb008",
   "metadata": {},
   "outputs": [
    {
     "name": "stdout",
     "output_type": "stream",
     "text": [
      "statistic = 1.3348574212727065, p-value = 0.248\n",
      "Статистические различия не обнаружены, принимаем нулевую гипотезу.\n"
     ]
    }
   ],
   "source": [
    "statistic, pvalue,_ , _=stats.chi2_contingency([[A, all_A-A], [B, all_B-B]], correction=False)\n",
    "print (f'statistic = {statistic}, p-value = {round(pvalue, 3)}')\n",
    "if (pvalue<0.05): print('Статистические различия обнаружены, принимаем альтернативную гипотезу.')\n",
    "if (pvalue>0.05): print('Статистические различия не обнаружены, принимаем нулевую гипотезу.')"
   ]
  },
  {
   "cell_type": "markdown",
   "id": "0d43fc2e",
   "metadata": {},
   "source": [
    "И в значениях REVENUEб и в количестве пользователей, совершивших покупку на основе данных выборок статистических различий между группами А и В не обнаружено. На данном этапе запускать вариант В не нужно. Возможно, пока недостаточное количество пользователей в выборках."
   ]
  }
 ],
 "metadata": {
  "kernelspec": {
   "display_name": "Python 3 (ipykernel)",
   "language": "python",
   "name": "python3"
  },
  "language_info": {
   "codemirror_mode": {
    "name": "ipython",
    "version": 3
   },
   "file_extension": ".py",
   "mimetype": "text/x-python",
   "name": "python",
   "nbconvert_exporter": "python",
   "pygments_lexer": "ipython3",
   "version": "3.10.9"
  }
 },
 "nbformat": 4,
 "nbformat_minor": 5
}
