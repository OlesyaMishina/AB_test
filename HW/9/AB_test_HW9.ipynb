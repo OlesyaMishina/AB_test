{
 "cells": [
  {
   "cell_type": "markdown",
   "id": "b9ea1655",
   "metadata": {},
   "source": [
    "### Урок 9. Python применение продвинутых методов\n",
    "Проанализируйте результаты эксперимента и напишите свои рекомендации менеджеру.\n",
    "\n",
    "Mobile Games AB Testing with Cookie Cats\n"
   ]
  },
  {
   "cell_type": "markdown",
   "id": "1e8fb889",
   "metadata": {},
   "source": [
    "Набор данных и переменные\n",
    "У нас есть данные о 90 189 игроках, которые установили игру во время проведения AB-теста.\n",
    "\n",
    "userid — уникальный номер, идентифицирующий каждого игрока.\n",
    "\n",
    "version - попал ли игрок в контрольную группу (gate_30 - ворота 30 уровня) или группу с перенесенными воротами (gate_40 - ворота 40 уровня).\n",
    "\n",
    "sum_gamerounds — количество игровых раундов, сыгранных игроком в течение первых 14 дней после установки.\n",
    "\n",
    "retention_1 - вернулся ли игрок и играл через 1 день после установки?\n",
    "\n",
    "retention_7 - вернулся ли игрок и играл через 7 дней после установки?\n",
    "\n",
    "Когда игрок устанавливал игру, ему или ей случайным образом присваивались gate_30 или gate_40."
   ]
  },
  {
   "cell_type": "code",
   "execution_count": 169,
   "id": "cf9ca4f7",
   "metadata": {},
   "outputs": [
    {
     "data": {
      "text/html": [
       "<div>\n",
       "<style scoped>\n",
       "    .dataframe tbody tr th:only-of-type {\n",
       "        vertical-align: middle;\n",
       "    }\n",
       "\n",
       "    .dataframe tbody tr th {\n",
       "        vertical-align: top;\n",
       "    }\n",
       "\n",
       "    .dataframe thead th {\n",
       "        text-align: right;\n",
       "    }\n",
       "</style>\n",
       "<table border=\"1\" class=\"dataframe\">\n",
       "  <thead>\n",
       "    <tr style=\"text-align: right;\">\n",
       "      <th></th>\n",
       "      <th>userid</th>\n",
       "      <th>version</th>\n",
       "      <th>sum_gamerounds</th>\n",
       "      <th>retention_1</th>\n",
       "      <th>retention_7</th>\n",
       "    </tr>\n",
       "  </thead>\n",
       "  <tbody>\n",
       "    <tr>\n",
       "      <th>0</th>\n",
       "      <td>116</td>\n",
       "      <td>gate_30</td>\n",
       "      <td>3</td>\n",
       "      <td>0</td>\n",
       "      <td>0</td>\n",
       "    </tr>\n",
       "    <tr>\n",
       "      <th>1</th>\n",
       "      <td>337</td>\n",
       "      <td>gate_30</td>\n",
       "      <td>38</td>\n",
       "      <td>1</td>\n",
       "      <td>0</td>\n",
       "    </tr>\n",
       "    <tr>\n",
       "      <th>2</th>\n",
       "      <td>377</td>\n",
       "      <td>gate_40</td>\n",
       "      <td>165</td>\n",
       "      <td>1</td>\n",
       "      <td>0</td>\n",
       "    </tr>\n",
       "    <tr>\n",
       "      <th>3</th>\n",
       "      <td>483</td>\n",
       "      <td>gate_40</td>\n",
       "      <td>1</td>\n",
       "      <td>0</td>\n",
       "      <td>0</td>\n",
       "    </tr>\n",
       "    <tr>\n",
       "      <th>4</th>\n",
       "      <td>488</td>\n",
       "      <td>gate_40</td>\n",
       "      <td>179</td>\n",
       "      <td>1</td>\n",
       "      <td>1</td>\n",
       "    </tr>\n",
       "    <tr>\n",
       "      <th>...</th>\n",
       "      <td>...</td>\n",
       "      <td>...</td>\n",
       "      <td>...</td>\n",
       "      <td>...</td>\n",
       "      <td>...</td>\n",
       "    </tr>\n",
       "    <tr>\n",
       "      <th>90184</th>\n",
       "      <td>9999441</td>\n",
       "      <td>gate_40</td>\n",
       "      <td>97</td>\n",
       "      <td>1</td>\n",
       "      <td>0</td>\n",
       "    </tr>\n",
       "    <tr>\n",
       "      <th>90185</th>\n",
       "      <td>9999479</td>\n",
       "      <td>gate_40</td>\n",
       "      <td>30</td>\n",
       "      <td>0</td>\n",
       "      <td>0</td>\n",
       "    </tr>\n",
       "    <tr>\n",
       "      <th>90186</th>\n",
       "      <td>9999710</td>\n",
       "      <td>gate_30</td>\n",
       "      <td>28</td>\n",
       "      <td>1</td>\n",
       "      <td>0</td>\n",
       "    </tr>\n",
       "    <tr>\n",
       "      <th>90187</th>\n",
       "      <td>9999768</td>\n",
       "      <td>gate_40</td>\n",
       "      <td>51</td>\n",
       "      <td>1</td>\n",
       "      <td>0</td>\n",
       "    </tr>\n",
       "    <tr>\n",
       "      <th>90188</th>\n",
       "      <td>9999861</td>\n",
       "      <td>gate_40</td>\n",
       "      <td>16</td>\n",
       "      <td>0</td>\n",
       "      <td>0</td>\n",
       "    </tr>\n",
       "  </tbody>\n",
       "</table>\n",
       "<p>90189 rows × 5 columns</p>\n",
       "</div>"
      ],
      "text/plain": [
       "        userid  version  sum_gamerounds  retention_1  retention_7\n",
       "0          116  gate_30               3            0            0\n",
       "1          337  gate_30              38            1            0\n",
       "2          377  gate_40             165            1            0\n",
       "3          483  gate_40               1            0            0\n",
       "4          488  gate_40             179            1            1\n",
       "...        ...      ...             ...          ...          ...\n",
       "90184  9999441  gate_40              97            1            0\n",
       "90185  9999479  gate_40              30            0            0\n",
       "90186  9999710  gate_30              28            1            0\n",
       "90187  9999768  gate_40              51            1            0\n",
       "90188  9999861  gate_40              16            0            0\n",
       "\n",
       "[90189 rows x 5 columns]"
      ]
     },
     "execution_count": 169,
     "metadata": {},
     "output_type": "execute_result"
    }
   ],
   "source": [
    "import pandas as pd\n",
    "import matplotlib.pyplot as plt\n",
    "import seaborn as sns\n",
    "import bootstrapped.bootstrap as bs\n",
    "import bootstrapped.compare_functions as bs_compare\n",
    "import bootstrapped.stats_functions as bs_stats\n",
    "import statsmodels.stats.power as smp\n",
    "import math\n",
    "import numpy as np\n",
    "\n",
    "df=pd.read_excel('C:/GB/Analyst/AB_test/HW/9/результаты А_B.xlsx')\n",
    "df"
   ]
  },
  {
   "cell_type": "code",
   "execution_count": 145,
   "id": "dd3aca8c",
   "metadata": {},
   "outputs": [
    {
     "name": "stdout",
     "output_type": "stream",
     "text": [
      "<class 'pandas.core.frame.DataFrame'>\n",
      "RangeIndex: 90189 entries, 0 to 90188\n",
      "Data columns (total 5 columns):\n",
      " #   Column          Non-Null Count  Dtype \n",
      "---  ------          --------------  ----- \n",
      " 0   userid          90189 non-null  int64 \n",
      " 1   version         90189 non-null  object\n",
      " 2   sum_gamerounds  90189 non-null  int64 \n",
      " 3   retention_1     90189 non-null  int64 \n",
      " 4   retention_7     90189 non-null  int64 \n",
      "dtypes: int64(4), object(1)\n",
      "memory usage: 3.4+ MB\n"
     ]
    }
   ],
   "source": [
    "df.info()"
   ]
  },
  {
   "cell_type": "code",
   "execution_count": 146,
   "id": "754a07cc",
   "metadata": {},
   "outputs": [
    {
     "data": {
      "text/plain": [
       "90189"
      ]
     },
     "execution_count": 146,
     "metadata": {},
     "output_type": "execute_result"
    }
   ],
   "source": [
    "df.userid.nunique() #Повторений id нет"
   ]
  },
  {
   "cell_type": "code",
   "execution_count": 147,
   "id": "8f57bcd2",
   "metadata": {},
   "outputs": [
    {
     "data": {
      "text/plain": [
       "2294     1\n",
       "2438     1\n",
       "2640     1\n",
       "2961     1\n",
       "49854    1\n",
       "Name: sum_gamerounds, dtype: int64"
      ]
     },
     "execution_count": 147,
     "metadata": {},
     "output_type": "execute_result"
    }
   ],
   "source": [
    "#посмотрим выбросы по sum_gamerounds\n",
    "df.sum_gamerounds.value_counts().sort_index().tail()"
   ]
  },
  {
   "cell_type": "code",
   "execution_count": 148,
   "id": "6a7aa79a",
   "metadata": {},
   "outputs": [],
   "source": [
    "#уберем выброс 49854 раунда!\n",
    "df=df[df['sum_gamerounds']<40000]"
   ]
  },
  {
   "cell_type": "code",
   "execution_count": 149,
   "id": "49249a5c",
   "metadata": {},
   "outputs": [
    {
     "data": {
      "text/html": [
       "<div>\n",
       "<style scoped>\n",
       "    .dataframe tbody tr th:only-of-type {\n",
       "        vertical-align: middle;\n",
       "    }\n",
       "\n",
       "    .dataframe tbody tr th {\n",
       "        vertical-align: top;\n",
       "    }\n",
       "\n",
       "    .dataframe thead th {\n",
       "        text-align: right;\n",
       "    }\n",
       "</style>\n",
       "<table border=\"1\" class=\"dataframe\">\n",
       "  <thead>\n",
       "    <tr style=\"text-align: right;\">\n",
       "      <th></th>\n",
       "      <th>userid</th>\n",
       "      <th>sum_gamerounds</th>\n",
       "      <th>retention_1</th>\n",
       "      <th>retention_7</th>\n",
       "    </tr>\n",
       "  </thead>\n",
       "  <tbody>\n",
       "    <tr>\n",
       "      <th>count</th>\n",
       "      <td>4.469900e+04</td>\n",
       "      <td>44699.000000</td>\n",
       "      <td>44699.000000</td>\n",
       "      <td>44699.000000</td>\n",
       "    </tr>\n",
       "    <tr>\n",
       "      <th>mean</th>\n",
       "      <td>4.987532e+06</td>\n",
       "      <td>51.342111</td>\n",
       "      <td>0.448198</td>\n",
       "      <td>0.190183</td>\n",
       "    </tr>\n",
       "    <tr>\n",
       "      <th>std</th>\n",
       "      <td>2.881051e+06</td>\n",
       "      <td>102.057598</td>\n",
       "      <td>0.497315</td>\n",
       "      <td>0.392450</td>\n",
       "    </tr>\n",
       "    <tr>\n",
       "      <th>min</th>\n",
       "      <td>1.160000e+02</td>\n",
       "      <td>0.000000</td>\n",
       "      <td>0.000000</td>\n",
       "      <td>0.000000</td>\n",
       "    </tr>\n",
       "    <tr>\n",
       "      <th>25%</th>\n",
       "      <td>2.505463e+06</td>\n",
       "      <td>5.000000</td>\n",
       "      <td>0.000000</td>\n",
       "      <td>0.000000</td>\n",
       "    </tr>\n",
       "    <tr>\n",
       "      <th>50%</th>\n",
       "      <td>4.983630e+06</td>\n",
       "      <td>17.000000</td>\n",
       "      <td>0.000000</td>\n",
       "      <td>0.000000</td>\n",
       "    </tr>\n",
       "    <tr>\n",
       "      <th>75%</th>\n",
       "      <td>7.481522e+06</td>\n",
       "      <td>50.000000</td>\n",
       "      <td>1.000000</td>\n",
       "      <td>0.000000</td>\n",
       "    </tr>\n",
       "    <tr>\n",
       "      <th>max</th>\n",
       "      <td>9.999710e+06</td>\n",
       "      <td>2961.000000</td>\n",
       "      <td>1.000000</td>\n",
       "      <td>1.000000</td>\n",
       "    </tr>\n",
       "  </tbody>\n",
       "</table>\n",
       "</div>"
      ],
      "text/plain": [
       "             userid  sum_gamerounds   retention_1   retention_7\n",
       "count  4.469900e+04    44699.000000  44699.000000  44699.000000\n",
       "mean   4.987532e+06       51.342111      0.448198      0.190183\n",
       "std    2.881051e+06      102.057598      0.497315      0.392450\n",
       "min    1.160000e+02        0.000000      0.000000      0.000000\n",
       "25%    2.505463e+06        5.000000      0.000000      0.000000\n",
       "50%    4.983630e+06       17.000000      0.000000      0.000000\n",
       "75%    7.481522e+06       50.000000      1.000000      0.000000\n",
       "max    9.999710e+06     2961.000000      1.000000      1.000000"
      ]
     },
     "execution_count": 149,
     "metadata": {},
     "output_type": "execute_result"
    }
   ],
   "source": [
    "#Разделим данные на группы, gate 30 и gate 40\n",
    "gate_30=df[df.version=='gate_30']\n",
    "gate_30.describe()"
   ]
  },
  {
   "cell_type": "code",
   "execution_count": 150,
   "id": "fcce6ed5",
   "metadata": {},
   "outputs": [
    {
     "data": {
      "text/html": [
       "<div>\n",
       "<style scoped>\n",
       "    .dataframe tbody tr th:only-of-type {\n",
       "        vertical-align: middle;\n",
       "    }\n",
       "\n",
       "    .dataframe tbody tr th {\n",
       "        vertical-align: top;\n",
       "    }\n",
       "\n",
       "    .dataframe thead th {\n",
       "        text-align: right;\n",
       "    }\n",
       "</style>\n",
       "<table border=\"1\" class=\"dataframe\">\n",
       "  <thead>\n",
       "    <tr style=\"text-align: right;\">\n",
       "      <th></th>\n",
       "      <th>userid</th>\n",
       "      <th>sum_gamerounds</th>\n",
       "      <th>retention_1</th>\n",
       "      <th>retention_7</th>\n",
       "    </tr>\n",
       "  </thead>\n",
       "  <tbody>\n",
       "    <tr>\n",
       "      <th>count</th>\n",
       "      <td>4.548900e+04</td>\n",
       "      <td>45489.000000</td>\n",
       "      <td>45489.000000</td>\n",
       "      <td>45489.000000</td>\n",
       "    </tr>\n",
       "    <tr>\n",
       "      <th>mean</th>\n",
       "      <td>5.009073e+06</td>\n",
       "      <td>51.298776</td>\n",
       "      <td>0.442283</td>\n",
       "      <td>0.182000</td>\n",
       "    </tr>\n",
       "    <tr>\n",
       "      <th>std</th>\n",
       "      <td>2.885496e+06</td>\n",
       "      <td>103.294416</td>\n",
       "      <td>0.496663</td>\n",
       "      <td>0.385849</td>\n",
       "    </tr>\n",
       "    <tr>\n",
       "      <th>min</th>\n",
       "      <td>3.770000e+02</td>\n",
       "      <td>0.000000</td>\n",
       "      <td>0.000000</td>\n",
       "      <td>0.000000</td>\n",
       "    </tr>\n",
       "    <tr>\n",
       "      <th>25%</th>\n",
       "      <td>2.517171e+06</td>\n",
       "      <td>5.000000</td>\n",
       "      <td>0.000000</td>\n",
       "      <td>0.000000</td>\n",
       "    </tr>\n",
       "    <tr>\n",
       "      <th>50%</th>\n",
       "      <td>5.007329e+06</td>\n",
       "      <td>16.000000</td>\n",
       "      <td>0.000000</td>\n",
       "      <td>0.000000</td>\n",
       "    </tr>\n",
       "    <tr>\n",
       "      <th>75%</th>\n",
       "      <td>7.510762e+06</td>\n",
       "      <td>52.000000</td>\n",
       "      <td>1.000000</td>\n",
       "      <td>0.000000</td>\n",
       "    </tr>\n",
       "    <tr>\n",
       "      <th>max</th>\n",
       "      <td>9.999861e+06</td>\n",
       "      <td>2640.000000</td>\n",
       "      <td>1.000000</td>\n",
       "      <td>1.000000</td>\n",
       "    </tr>\n",
       "  </tbody>\n",
       "</table>\n",
       "</div>"
      ],
      "text/plain": [
       "             userid  sum_gamerounds   retention_1   retention_7\n",
       "count  4.548900e+04    45489.000000  45489.000000  45489.000000\n",
       "mean   5.009073e+06       51.298776      0.442283      0.182000\n",
       "std    2.885496e+06      103.294416      0.496663      0.385849\n",
       "min    3.770000e+02        0.000000      0.000000      0.000000\n",
       "25%    2.517171e+06        5.000000      0.000000      0.000000\n",
       "50%    5.007329e+06       16.000000      0.000000      0.000000\n",
       "75%    7.510762e+06       52.000000      1.000000      0.000000\n",
       "max    9.999861e+06     2640.000000      1.000000      1.000000"
      ]
     },
     "execution_count": 150,
     "metadata": {},
     "output_type": "execute_result"
    }
   ],
   "source": [
    "gate_40=df[df.version=='gate_40']\n",
    "gate_40.describe()"
   ]
  },
  {
   "cell_type": "code",
   "execution_count": 151,
   "id": "4f62f106",
   "metadata": {},
   "outputs": [
    {
     "data": {
      "text/plain": [
       "<Axes: xlabel='version', ylabel='sum_gamerounds'>"
      ]
     },
     "execution_count": 151,
     "metadata": {},
     "output_type": "execute_result"
    },
    {
     "data": {
      "image/png": "[encoded data removed]",
      "text/plain": [
       "<Figure size 1500x400 with 2 Axes>"
      ]
     },
     "metadata": {},
     "output_type": "display_data"
    }
   ],
   "source": [
    "#посмотрим выбросы\n",
    "fig, (ax_boxplot, bx_boxplot) = plt.subplots(1, 2, figsize=(15,4))\n",
    "sns.boxplot(x=gate_30['version'], y=gate_30['sum_gamerounds'], ax=ax_boxplot)\n",
    "sns.boxplot(x=gate_40['version'], y=gate_40['sum_gamerounds'])"
   ]
  },
  {
   "cell_type": "markdown",
   "id": "bdacab2a",
   "metadata": {},
   "source": [
    "На основе полученыых данных можно сказать, что количество людей в группах, средние значения и дисперсия по количеству раундов, количеству вернувшихся пользователей в течение 1 дня и 7 дней имееют одинаковый порядок, соответсвенно их можно анализировать. "
   ]
  },
  {
   "cell_type": "code",
   "execution_count": 152,
   "id": "b3172e3e",
   "metadata": {},
   "outputs": [
    {
     "data": {
      "text/plain": [
       "<Axes: xlabel='sum_gamerounds', ylabel='Count'>"
      ]
     },
     "execution_count": 152,
     "metadata": {},
     "output_type": "execute_result"
    },
    {
     "data": {
      "image/png": "[encoded data removed]",
      "text/plain": [
       "<Figure size 1000x600 with 1 Axes>"
      ]
     },
     "metadata": {},
     "output_type": "display_data"
    }
   ],
   "source": [
    "plt.figure(figsize=(10, 6))\n",
    "sns.histplot(gate_30.sum_gamerounds, color='r', bins=150)\n",
    "sns.histplot(gate_40.sum_gamerounds, color='b', bins=150)"
   ]
  },
  {
   "cell_type": "code",
   "execution_count": 153,
   "id": "bbba3bc7",
   "metadata": {},
   "outputs": [
    {
     "name": "stdout",
     "output_type": "stream",
     "text": [
      "KstestResult(statistic=0.3074575469341033, pvalue=0.0, statistic_location=-0.5030699489519455, statistic_sign=-1)\n",
      "KstestResult(statistic=0.3097261247925254, pvalue=0.0, statistic_location=-0.4966268014004858, statistic_sign=-1)\n"
     ]
    }
   ],
   "source": [
    "#По гистограмме видим, что данные распределены ненормально, подтвердим это критериаем Колмогорова-Смирнова:\n",
    "from scipy.stats import kstest\n",
    "print(kstest((gate_30['sum_gamerounds']-gate_30['sum_gamerounds'].mean())/gate_30['sum_gamerounds'].std(), 'norm'))\n",
    "print(kstest((gate_40['sum_gamerounds']-gate_40['sum_gamerounds'].mean())/gate_40['sum_gamerounds'].std(), 'norm'))"
   ]
  },
  {
   "cell_type": "markdown",
   "id": "9e34a069",
   "metadata": {},
   "source": [
    "### Рассмотрим по отдельности все доступные характеристики выборок на наличие статистически значимых различий.\n",
    "#### 1. Количество сыгранных раундов sum_gamerounds"
   ]
  },
  {
   "cell_type": "code",
   "execution_count": 154,
   "id": "5f80d9fe",
   "metadata": {},
   "outputs": [
    {
     "data": {
      "text/plain": [
       "MannwhitneyuResult(statistic=1024285761.5, pvalue=0.05089155279145376)"
      ]
     },
     "execution_count": 154,
     "metadata": {},
     "output_type": "execute_result"
    }
   ],
   "source": [
    "#Это величина количественная, распределение ненормальное, выборки независимые и их 2 - используем критерий Манна Уитни\n",
    "from scipy import stats \n",
    "stats.mannwhitneyu(gate_30.sum_gamerounds, gate_40.sum_gamerounds)"
   ]
  },
  {
   "cell_type": "code",
   "execution_count": 155,
   "id": "326ad767",
   "metadata": {},
   "outputs": [
    {
     "name": "stdout",
     "output_type": "stream",
     "text": [
      "Доверительный интервал разницы средних значений sum_gamerounds в группах: -1.3128, 1.3686\n"
     ]
    }
   ],
   "source": [
    "#При уровне значимости 0,05 мы не можем сделать вывод, так как pvalue=0.05. Так как выборки имеют примерно одинаковое \n",
    "#распределение, используем бутстрап для оценки разницы средних:\n",
    "result=bs.bootstrap_ab(gate_30.sum_gamerounds.values, gate_40.sum_gamerounds.values, stat_func=bs_stats.mean, \n",
    "                       compare_func=bs_compare.difference, alpha=0.05, num_iterations=2000)\n",
    "print(f'Доверительный интервал разницы средних значений sum_gamerounds в группах: {round(result.lower_bound, 4)}, {round(result.upper_bound, 4)}')"
   ]
  },
  {
   "cell_type": "markdown",
   "id": "0945e75d",
   "metadata": {},
   "source": [
    "Так как доверительный интервал разницы средних содержит внутри 0, мы может сделать вывод, что с вероятностью 95% статистически значимых различий по количеству сыгранных раундов нет. Количество игроков, установивших игру, но не сышравших ни одрого раунда мы рассматривать не будем, так как эти пользователи не играли по каким то свои причинам, а не по причине разного уровня ворот."
   ]
  },
  {
   "cell_type": "code",
   "execution_count": 156,
   "id": "c79afcfc",
   "metadata": {},
   "outputs": [
    {
     "data": {
      "text/plain": [
       "(0.00042204843051062347, 44699)"
      ]
     },
     "execution_count": 156,
     "metadata": {},
     "output_type": "execute_result"
    }
   ],
   "source": [
    "#Посчитаем мощность теста:\n",
    "mean_30=gate_30.sum_gamerounds.mean()\n",
    "mean_40=gate_40.sum_gamerounds.mean()\n",
    "std_30=gate_30.sum_gamerounds.std()\n",
    "std_40=gate_40.sum_gamerounds.std()\n",
    "S=((std_30**2+std_40**2)/2)**0.5\n",
    "n=min(gate_30.shape[0], gate_40.shape[0]) #так как размеры выборок пости одинакове, возьмем минимальный\n",
    "ef_size=float((mean_30-mean_40)/S)\n",
    "ef_size, n"
   ]
  },
  {
   "cell_type": "code",
   "execution_count": 157,
   "id": "83ac75c1",
   "metadata": {},
   "outputs": [
    {
     "data": {
      "text/plain": [
       "0.05045615182441887"
      ]
     },
     "execution_count": 157,
     "metadata": {},
     "output_type": "execute_result"
    }
   ],
   "source": [
    "# мы видим, что размер эффекта очень мал, это говорит о том что выборки практически не отличаются. \n",
    "# Посчитаем мощность теста \n",
    "power=smp.zt_ind_solve_power(effect_size=ef_size, nobs1=n, alpha=0.05, alternative='two-sided')\n",
    "power"
   ]
  },
  {
   "cell_type": "markdown",
   "id": "e29f4670",
   "metadata": {},
   "source": [
    "Мощность теста очень мала 5%, она отвечает на вопрос : если нулевая гипотеза в действительности не верна, с какой вероятностью мы сможем отклонить ее в нашем эксперименте (т.е. с нашими параметрами). Такая маленькая мощность логична в следствии очень маленькой разницы средних значений и маленького размера эффекта. Что бы определить такой незначительный эффект как статистически значимый, нужно очень большой размер выборки. Посчитаем его: "
   ]
  },
  {
   "cell_type": "code",
   "execution_count": 158,
   "id": "a628dfab",
   "metadata": {},
   "outputs": [
    {
     "data": {
      "text/plain": [
       "88127617.10579775"
      ]
     },
     "execution_count": 158,
     "metadata": {},
     "output_type": "execute_result"
    }
   ],
   "source": [
    "number=smp.zt_ind_solve_power(effect_size=ef_size, alpha=0.05, power=0.80, alternative='two-sided')\n",
    "number"
   ]
  },
  {
   "cell_type": "markdown",
   "id": "e323e036",
   "metadata": {},
   "source": [
    "А вот если не убирать выброc в 49854 раундов из группы gate_30, то получим мощность теста уже 14%, а размер выборки тоже значительно меньше, 448589 для каждой из групп."
   ]
  },
  {
   "cell_type": "markdown",
   "id": "7c10785a",
   "metadata": {},
   "source": [
    "#### 2.Количество вернувшихся пользователей в течение 1 дня. \n",
    "Данные качественные, независимые, групп 2, для определения статистической значимости разницы в группах используем критерий Хи-квадрат."
   ]
  },
  {
   "cell_type": "code",
   "execution_count": 164,
   "id": "87792147",
   "metadata": {},
   "outputs": [
    {
     "data": {
      "text/plain": [
       "(3.19373895460949, 0.07392076034183397)"
      ]
     },
     "execution_count": 164,
     "metadata": {},
     "output_type": "execute_result"
    }
   ],
   "source": [
    "n_gate30=gate_30.shape[0]\n",
    "n_gate40=gate_40.shape[0]\n",
    "m_gate30=gate_30[gate_30.retention_1==1].shape[0]\n",
    "m_gate40=gate_40[gate_40.retention_1==1].shape[0]\n",
    "statistic, pvalue, _, _ = stats.chi2_contingency([[m_gate30, n_gate30-m_gate30], [m_gate40, n_gate40-m_gate40]], \n",
    "                                                 correction=False)\n",
    "statistic, pvalue"
   ]
  },
  {
   "cell_type": "markdown",
   "id": "22553a42",
   "metadata": {},
   "source": [
    "pvalue=0.07, что больше 0,05 и говорит о том, что статистически значимый различий нет между количеством пользователей, вернувшихся в течении 1 дня в обеих группах. Посчитаем мощность теста для этой характеристики через пропорции:"
   ]
  },
  {
   "cell_type": "code",
   "execution_count": 172,
   "id": "3618d408",
   "metadata": {},
   "outputs": [
    {
     "data": {
      "text/plain": [
       "0.42841899148161067"
      ]
     },
     "execution_count": 172,
     "metadata": {},
     "output_type": "execute_result"
    }
   ],
   "source": [
    "p_gate30=m_gate30/n_gate30\n",
    "p_gate40=m_gate40/n_gate40\n",
    "h = 2 * math.asin(np.sqrt(p_gate30)) - 2 * math.asin(np.sqrt(p_gate40))\n",
    "power=smp.zt_ind_solve_power(effect_size=h, nobs1=n, alpha=0.05, alternative='two-sided')\n",
    "power"
   ]
  },
  {
   "cell_type": "markdown",
   "id": "faf55174",
   "metadata": {},
   "source": [
    "Получаем вероятность отклонить нулевую гипотезу при условии, что верна альтернативная, в данном эксперименте для данной характеристики 43%. Расчитаем нужный объем выборки для мощности 80%:"
   ]
  },
  {
   "cell_type": "code",
   "execution_count": 173,
   "id": "21512aa3",
   "metadata": {},
   "outputs": [
    {
     "data": {
      "text/plain": [
       "110813.40715226658"
      ]
     },
     "execution_count": 173,
     "metadata": {},
     "output_type": "execute_result"
    }
   ],
   "source": [
    "number=smp.zt_ind_solve_power(effect_size=h, alpha=0.05, power=0.8, alternative='two-sided')\n",
    "number"
   ]
  },
  {
   "cell_type": "markdown",
   "id": "90a7199a",
   "metadata": {},
   "source": [
    "#### 3. Количество вернувшихся пользователей в течение 7 дней.\n",
    "Проделываем все тоже самое для этой характеристики."
   ]
  },
  {
   "cell_type": "code",
   "execution_count": 175,
   "id": "4501486e",
   "metadata": {},
   "outputs": [
    {
     "data": {
      "text/plain": [
       "(9.96923845042939, 0.0015917731773992998)"
      ]
     },
     "execution_count": 175,
     "metadata": {},
     "output_type": "execute_result"
    }
   ],
   "source": [
    "m_gate30=gate_30[gate_30.retention_7==1].shape[0]\n",
    "m_gate40=gate_40[gate_40.retention_7==1].shape[0]\n",
    "statistic, pvalue, _, _ = stats.chi2_contingency([[m_gate30, n_gate30-m_gate30], [m_gate40, n_gate40-m_gate40]], \n",
    "                                                 correction=False)\n",
    "statistic, pvalue"
   ]
  },
  {
   "cell_type": "markdown",
   "id": "1b33d78b",
   "metadata": {},
   "source": [
    "pvalue=0.001, что меньше0,05 и говорит о том, что есть статистически значимые различий между количеством пользователей, вернувшихся в течении 7 дня в обеих группах. Посчитаем мощность теста для этой характеристики через пропорции:"
   ]
  },
  {
   "cell_type": "code",
   "execution_count": 183,
   "id": "1be468ea",
   "metadata": {},
   "outputs": [
    {
     "data": {
      "text/plain": [
       "0.021027838248225628"
      ]
     },
     "execution_count": 183,
     "metadata": {},
     "output_type": "execute_result"
    }
   ],
   "source": [
    "p_gate30=m_gate30/n_gate30\n",
    "p_gate40=m_gate40/n_gate40\n",
    "h = 2 * math.asin(np.sqrt(p_gate30)) - 2 * math.asin(np.sqrt(p_gate40))\n",
    "h"
   ]
  },
  {
   "cell_type": "code",
   "execution_count": 177,
   "id": "5755212f",
   "metadata": {},
   "outputs": [
    {
     "data": {
      "text/plain": [
       "0.8817233744262293"
      ]
     },
     "execution_count": 177,
     "metadata": {},
     "output_type": "execute_result"
    }
   ],
   "source": [
    "power=smp.zt_ind_solve_power(effect_size=h, nobs1=n, alpha=0.05, alternative='two-sided')\n",
    "power"
   ]
  },
  {
   "cell_type": "markdown",
   "id": "227016c6",
   "metadata": {},
   "source": [
    "Мы видим, что мощность теста достаточная, так же мы видим, что размер эффекта хоть и маленький, но есть. К тому же он положительный, это говорит о том доля retention_7 в группе gate_30 больше, чем доля retention_7 в группе gate_40. \n",
    "### Вывод: переносить воторота на уровень gate_40 смысла нет, так как по характеристикам sum_gamerounds и retention_1 статистически значимых различий не обнаружено, а по retention_7 группа с уровнем gate_30 показала больший возврат."
   ]
  }
 ],
 "metadata": {
  "kernelspec": {
   "display_name": "Python 3 (ipykernel)",
   "language": "python",
   "name": "python3"
  },
  "language_info": {
   "codemirror_mode": {
    "name": "ipython",
    "version": 3
   },
   "file_extension": ".py",
   "mimetype": "text/x-python",
   "name": "python",
   "nbconvert_exporter": "python",
   "pygments_lexer": "ipython3",
   "version": "3.10.9"
  }
 },
 "nbformat": 4,
 "nbformat_minor": 5
}
